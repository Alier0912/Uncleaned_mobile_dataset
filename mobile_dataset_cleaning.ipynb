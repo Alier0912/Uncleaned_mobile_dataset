{
 "cells": [
  {
   "cell_type": "code",
   "execution_count": 1,
   "id": "13d827b6",
   "metadata": {},
   "outputs": [],
   "source": [
    "# importing necessary libraries\n",
    "import pandas as pd\n",
    "import numpy as np \n",
    "import matplotlib.pyplot as plt \n",
    "import seaborn as sns \n",
    "import plotly.express as px\n",
    "import plotly.graph_objects as go"
   ]
  },
  {
   "cell_type": "code",
   "execution_count": 2,
   "id": "db01a6ad",
   "metadata": {},
   "outputs": [],
   "source": [
    "# loading the dataset\n",
    "uncleaned_df = pd.read_csv('unclean_mobile_data.csv')"
   ]
  },
  {
   "cell_type": "code",
   "execution_count": 3,
   "id": "fe39064c",
   "metadata": {},
   "outputs": [
    {
     "data": {
      "text/html": [
       "<div>\n",
       "<style scoped>\n",
       "    .dataframe tbody tr th:only-of-type {\n",
       "        vertical-align: middle;\n",
       "    }\n",
       "\n",
       "    .dataframe tbody tr th {\n",
       "        vertical-align: top;\n",
       "    }\n",
       "\n",
       "    .dataframe thead th {\n",
       "        text-align: right;\n",
       "    }\n",
       "</style>\n",
       "<table border=\"1\" class=\"dataframe\">\n",
       "  <thead>\n",
       "    <tr style=\"text-align: right;\">\n",
       "      <th></th>\n",
       "      <th>name</th>\n",
       "      <th>brand</th>\n",
       "      <th>price</th>\n",
       "      <th>description</th>\n",
       "    </tr>\n",
       "  </thead>\n",
       "  <tbody>\n",
       "    <tr>\n",
       "      <th>0</th>\n",
       "      <td>['Nokia C2 2nd Edition- Blue']</td>\n",
       "      <td>['Brand:                Nokia']</td>\n",
       "      <td>['4,599৳']</td>\n",
       "      <td>[]</td>\n",
       "    </tr>\n",
       "    <tr>\n",
       "      <th>1</th>\n",
       "      <td>['Online Shopping in Bangladesh for Mobile &amp; G...</td>\n",
       "      <td>[nan]</td>\n",
       "      <td>['4,599৳']</td>\n",
       "      <td>[nan]</td>\n",
       "    </tr>\n",
       "    <tr>\n",
       "      <th>2</th>\n",
       "      <td>['Nokia C2 2nd Edition- Blue']</td>\n",
       "      <td>['Brand:                Nokia']</td>\n",
       "      <td>['4,599৳']</td>\n",
       "      <td>[]</td>\n",
       "    </tr>\n",
       "    <tr>\n",
       "      <th>3</th>\n",
       "      <td>['Nokia C2 2nd Edition- Blue']</td>\n",
       "      <td>['Brand:                Nokia']</td>\n",
       "      <td>['4,599৳']</td>\n",
       "      <td>[]</td>\n",
       "    </tr>\n",
       "    <tr>\n",
       "      <th>4</th>\n",
       "      <td>['Nokia 1.4 3GB/64GB']</td>\n",
       "      <td>['Brand:                Nokia']</td>\n",
       "      <td>['7,999৳']</td>\n",
       "      <td>[]</td>\n",
       "    </tr>\n",
       "  </tbody>\n",
       "</table>\n",
       "</div>"
      ],
      "text/plain": [
       "                                                name  \\\n",
       "0                     ['Nokia C2 2nd Edition- Blue']   \n",
       "1  ['Online Shopping in Bangladesh for Mobile & G...   \n",
       "2                     ['Nokia C2 2nd Edition- Blue']   \n",
       "3                     ['Nokia C2 2nd Edition- Blue']   \n",
       "4                             ['Nokia 1.4 3GB/64GB']   \n",
       "\n",
       "                             brand       price description  \n",
       "0  ['Brand:                Nokia']  ['4,599৳']          []  \n",
       "1                            [nan]  ['4,599৳']       [nan]  \n",
       "2  ['Brand:                Nokia']  ['4,599৳']          []  \n",
       "3  ['Brand:                Nokia']  ['4,599৳']          []  \n",
       "4  ['Brand:                Nokia']  ['7,999৳']          []  "
      ]
     },
     "execution_count": 3,
     "metadata": {},
     "output_type": "execute_result"
    }
   ],
   "source": [
    "# viewing the dataset\n",
    "uncleaned_df.head()"
   ]
  },
  {
   "cell_type": "markdown",
   "id": "94ae4120",
   "metadata": {},
   "source": [
    "# 1. Data Cleaning & Preparation\n"
   ]
  },
  {
   "cell_type": "code",
   "execution_count": 7,
   "id": "d3b93cc7",
   "metadata": {},
   "outputs": [],
   "source": [
    "# removing the [] and '' from the  columns of the dataset\n",
    "uncleaned_df['brand'] = uncleaned_df['brand'].str.replace('[', '').str.replace(']', '').str.replace(\"'\", '')\n",
    "uncleaned_df['description'] = uncleaned_df['description'].str.replace('[', '').str.replace(']', '').str.replace(\"'\", '')\n",
    "uncleaned_df['name'] = uncleaned_df['name'].str.replace('[', '').str.replace(']', '').str.replace(\"'\", '')\n",
    "uncleaned_df['price'] = uncleaned_df['price'].str.replace('[', '').str.replace(']', '').str.replace(\"'\", '')\n",
    "\n",
    "\n"
   ]
  },
  {
   "cell_type": "code",
   "execution_count": 10,
   "id": "2f148c94",
   "metadata": {},
   "outputs": [
    {
     "data": {
      "text/html": [
       "<div>\n",
       "<style scoped>\n",
       "    .dataframe tbody tr th:only-of-type {\n",
       "        vertical-align: middle;\n",
       "    }\n",
       "\n",
       "    .dataframe tbody tr th {\n",
       "        vertical-align: top;\n",
       "    }\n",
       "\n",
       "    .dataframe thead th {\n",
       "        text-align: right;\n",
       "    }\n",
       "</style>\n",
       "<table border=\"1\" class=\"dataframe\">\n",
       "  <thead>\n",
       "    <tr style=\"text-align: right;\">\n",
       "      <th></th>\n",
       "      <th>name</th>\n",
       "      <th>brand</th>\n",
       "      <th>price</th>\n",
       "      <th>description</th>\n",
       "    </tr>\n",
       "  </thead>\n",
       "  <tbody>\n",
       "    <tr>\n",
       "      <th>0</th>\n",
       "      <td>Nokia C2 2nd Edition- Blue</td>\n",
       "      <td>Brand:                Nokia</td>\n",
       "      <td>4,599৳</td>\n",
       "      <td></td>\n",
       "    </tr>\n",
       "    <tr>\n",
       "      <th>1</th>\n",
       "      <td>Online Shopping in Bangladesh for Mobile &amp; Gad...</td>\n",
       "      <td>nan</td>\n",
       "      <td>4,599৳</td>\n",
       "      <td>nan</td>\n",
       "    </tr>\n",
       "    <tr>\n",
       "      <th>2</th>\n",
       "      <td>Nokia C2 2nd Edition- Blue</td>\n",
       "      <td>Brand:                Nokia</td>\n",
       "      <td>4,599৳</td>\n",
       "      <td></td>\n",
       "    </tr>\n",
       "    <tr>\n",
       "      <th>3</th>\n",
       "      <td>Nokia C2 2nd Edition- Blue</td>\n",
       "      <td>Brand:                Nokia</td>\n",
       "      <td>4,599৳</td>\n",
       "      <td></td>\n",
       "    </tr>\n",
       "    <tr>\n",
       "      <th>4</th>\n",
       "      <td>Nokia 1.4 3GB/64GB</td>\n",
       "      <td>Brand:                Nokia</td>\n",
       "      <td>7,999৳</td>\n",
       "      <td></td>\n",
       "    </tr>\n",
       "    <tr>\n",
       "      <th>...</th>\n",
       "      <td>...</td>\n",
       "      <td>...</td>\n",
       "      <td>...</td>\n",
       "      <td>...</td>\n",
       "    </tr>\n",
       "    <tr>\n",
       "      <th>95</th>\n",
       "      <td>Online Shopping in Bangladesh for Mobile &amp; Gad...</td>\n",
       "      <td>nan</td>\n",
       "      <td>13,490৳</td>\n",
       "      <td>nan</td>\n",
       "    </tr>\n",
       "    <tr>\n",
       "      <th>96</th>\n",
       "      <td>OPPO A18 4GB/128GB- Glowing Black</td>\n",
       "      <td>Brand:                Oppo</td>\n",
       "      <td>13,490৳</td>\n",
       "      <td>OS: ColorOS 13.1 based on Android 13, Processo...</td>\n",
       "    </tr>\n",
       "    <tr>\n",
       "      <th>97</th>\n",
       "      <td>Online Shopping in Bangladesh for Mobile &amp; Gad...</td>\n",
       "      <td>nan</td>\n",
       "      <td>13,490৳</td>\n",
       "      <td>nan</td>\n",
       "    </tr>\n",
       "    <tr>\n",
       "      <th>98</th>\n",
       "      <td>OPPO A18 4GB/128GB- Glowing Black</td>\n",
       "      <td>Brand:                Oppo</td>\n",
       "      <td>13,490৳</td>\n",
       "      <td>OS: ColorOS 13.1 based on Android 13, Processo...</td>\n",
       "    </tr>\n",
       "    <tr>\n",
       "      <th>99</th>\n",
       "      <td>OPPO A18 4GB/128GB- Glowing Black</td>\n",
       "      <td>Brand:                Oppo</td>\n",
       "      <td>13,490৳</td>\n",
       "      <td>OS: ColorOS 13.1 based on Android 13, Processo...</td>\n",
       "    </tr>\n",
       "  </tbody>\n",
       "</table>\n",
       "<p>100 rows × 4 columns</p>\n",
       "</div>"
      ],
      "text/plain": [
       "                                                 name  \\\n",
       "0                          Nokia C2 2nd Edition- Blue   \n",
       "1   Online Shopping in Bangladesh for Mobile & Gad...   \n",
       "2                          Nokia C2 2nd Edition- Blue   \n",
       "3                          Nokia C2 2nd Edition- Blue   \n",
       "4                                  Nokia 1.4 3GB/64GB   \n",
       "..                                                ...   \n",
       "95  Online Shopping in Bangladesh for Mobile & Gad...   \n",
       "96                  OPPO A18 4GB/128GB- Glowing Black   \n",
       "97  Online Shopping in Bangladesh for Mobile & Gad...   \n",
       "98                  OPPO A18 4GB/128GB- Glowing Black   \n",
       "99                  OPPO A18 4GB/128GB- Glowing Black   \n",
       "\n",
       "                          brand    price  \\\n",
       "0   Brand:                Nokia   4,599৳   \n",
       "1                           nan   4,599৳   \n",
       "2   Brand:                Nokia   4,599৳   \n",
       "3   Brand:                Nokia   4,599৳   \n",
       "4   Brand:                Nokia   7,999৳   \n",
       "..                          ...      ...   \n",
       "95                          nan  13,490৳   \n",
       "96   Brand:                Oppo  13,490৳   \n",
       "97                          nan  13,490৳   \n",
       "98   Brand:                Oppo  13,490৳   \n",
       "99   Brand:                Oppo  13,490৳   \n",
       "\n",
       "                                          description  \n",
       "0                                                      \n",
       "1                                                 nan  \n",
       "2                                                      \n",
       "3                                                      \n",
       "4                                                      \n",
       "..                                                ...  \n",
       "95                                                nan  \n",
       "96  OS: ColorOS 13.1 based on Android 13, Processo...  \n",
       "97                                                nan  \n",
       "98  OS: ColorOS 13.1 based on Android 13, Processo...  \n",
       "99  OS: ColorOS 13.1 based on Android 13, Processo...  \n",
       "\n",
       "[100 rows x 4 columns]"
      ]
     },
     "execution_count": 10,
     "metadata": {},
     "output_type": "execute_result"
    }
   ],
   "source": [
    "# viewing the dataset\n",
    "uncleaned_df.head(100)"
   ]
  },
  {
   "cell_type": "code",
   "execution_count": 11,
   "id": "1e518268",
   "metadata": {},
   "outputs": [],
   "source": [
    "# In the brand column, the word brand brings confusion, so we will remove it\n",
    "uncleaned_df['brand'] = uncleaned_df['brand'].str.replace('Brand:', '').str.strip()"
   ]
  },
  {
   "cell_type": "code",
   "execution_count": 13,
   "id": "0020278a",
   "metadata": {},
   "outputs": [
    {
     "data": {
      "text/plain": [
       "array(['Nokia C2 2nd Edition- Blue',\n",
       "       'Online Shopping in Bangladesh for Mobile & Gadgets | Ayshamart',\n",
       "       'Nokia 1.4 3GB/64GB', 'Tecno Spark 20 8GB/256GB',\n",
       "       'Tecno Camon 20 8GB/256GB', 'Infinix Hot 40i 8GB/128GB',\n",
       "       'Infinix Hot 20 4GB/128GB', 'vivo Y27s 8GB/128GB',\n",
       "       'vivo V27e 8GB/256GB', 'vivo Y36 8GB/256GB', 'itel A05s 2GB/32GB',\n",
       "       'itel A05s 4GB/64GB', 'Infinix Hot 30i 4GB/128GB',\n",
       "       'Tecno Spark 20C 8GB/128GB', 'Tecno Spark 20C 4GB/128GB',\n",
       "       'itel A70 4GB/128GB', 'itel A70 4GB/64GB',\n",
       "       'Tecno Spark Go 2024 (4/64GB)- Mystery White',\n",
       "       'Tecno Spark Go 2024 (4/64GB)- Gravity Black',\n",
       "       'OPPO A18 4GB/128GB- Glowing Blue', 'OPPO A17K 3GB/64GB',\n",
       "       'OPPO A18 4GB/128GB- Glowing Black', 'vivo Y17s 4GB/128GB',\n",
       "       'vivo V29e 5G 8GB/256GB- Black',\n",
       "       'vivo V29e 5G 8GB/256GB- Rose Gold', 'Infinix Smart 8 (4/64GB)',\n",
       "       'Infinix Smart 8 (4/128GB)', 'OPPO A58 6GB/128GB',\n",
       "       'Benco S1 8/128GB', 'nan', 'Redmi Note 12 8GB/256GB',\n",
       "       'Xiaomi Haylou GT1 2022 TWS Wireless Earbuds',\n",
       "       'OPPO A38 4GB/128GB- Glowing Glod',\n",
       "       'OPPO A38 4GB/128GB- Glowing Black', 'Redmi A2+ 3GB/64GB',\n",
       "       'NEXG N6 Lite', 'Walton Blender WBL- 12M330', 'Redmi A2+ 4GB/64GB',\n",
       "       'itel S23 8GB/256GB', 'vivo Y17s 6GB/128GB', 'Primo F10 2/32GB',\n",
       "       'Redmi Note 12 6GB/128GB', 'OPPO A58 8GB/128GB',\n",
       "       'Symphony Atom 4 3GB/32GB', 'Symphony Atom 2- 2/32GB',\n",
       "       'Symphony SYMTAB 80 – 4/32GB', 'Infinix Note 30 Pro 8GB/256GB',\n",
       "       'Nokia C2 2nd Edition- Grey', 'Redmi 12 6GB/128GB',\n",
       "       'Redmi 12 4GB/128GB', 'NEXG N6 8/128GB', 'benco V91 4/128GB',\n",
       "       'benco V91 8/128GB', 'OPPO A78 8GB/256GB – Mist Black',\n",
       "       'OPPO A78 8GB/256GB – Aqua green', 'realme C51 4/64GB',\n",
       "       'itel S23 8/128GB', 'Orbit Y11', 'Redmi 12 8GB/256GB',\n",
       "       'itel A60s 4GB/64GB', 'itel A60s 4GB/128GB', 'vivo Y27 6/128GB',\n",
       "       'Samsung Galaxy M12 6/128GB',\n",
       "       'Samsung 1.5 Ton AR18TVHYDWKUFEN Air Conditioner – White',\n",
       "       'Redmi 12C 4GB/64GB', 'Redmi 12C 4GB/128GB',\n",
       "       'benco S1 Pro 8GB/256GB', 'Motorola Moto E13 4GB/64GB',\n",
       "       'Infinix Hot 30i 4GB/64GB', 'Infinix Note 30 8GB/128GB',\n",
       "       'itel S23 4/128GB', 'vivo Y02A 3GB/32GB', 'realme C53 6GB/128GB',\n",
       "       'Symphony G26', 'Benco S1 Pro 6/128GB',\n",
       "       'Motorola Moto E32 4GB/64GB', 'Motorola Moto E22s 4GB/64GB',\n",
       "       'Tecno Spark 10C 4GB/128GB', 'Infinix Note 30 8GB/256GB',\n",
       "       'Redmi 12C 6GB/128GB', 'Realme C55 8GB/256GB',\n",
       "       'realme 9 Pro+ 5G 8GB/128GB', 'Tecno Camon 20 Pro 8GB/256GB',\n",
       "       'realme C30s 3GB/64GB', 'vivo Y02t 4GB/64GB', 'vivo Y36 8GB/128GB',\n",
       "       'Symphony Z60 Plus 6/128GB', 'Infinix Hot 30i 8GB/128GB',\n",
       "       'NEXG N70', 'innova 10 4/128GB', 'Benco S1 6/128GB',\n",
       "       'Symphony V139', 'Benco V82 3/64GB', 'Moto e7 power 4/64GB',\n",
       "       'itel P40 4/64GB', 'itel P40 3/32GB', 'Infinix Hot 30 8GB/128GB',\n",
       "       'Orbit Y21', 'realme C33 4/128', 'Tecno Spark 10C 8GB/128GB',\n",
       "       'Symphony Z60 4/64GB', 'innova 10 4/64GB',\n",
       "       'Infinix Hot 30 4GB/128GB', 'Symphony i96', 'Realme C55 6GB/128GB',\n",
       "       'Infinix Hot 20i 6GB/128GB', 'Tecno Pop 7 2GB/64GB',\n",
       "       'vivo Y22 4GB/128GB', 'Tecno Spark 10 Pro 4GB/128GB',\n",
       "       'Tecno Spark 10 Pro 8GB/128GB', 'Infinix Smart 7 4/64GB',\n",
       "       'Samsung Galaxy Tab A 8.0', 'Infinix Smart 7 (3/64GB)',\n",
       "       'Benco V62', 'OPPO Reno8 T 8GB/128GB', 'OPPO A77 4GB/128GB',\n",
       "       'Infinix Hot 20i 4GB/128GB', 'Infinix Hot 20 8GB/128GB',\n",
       "       'Tecno Spark Go 2023 4GB/64GB', 'Infinix Note 12 8GB/256GB (2023)',\n",
       "       'Infinix Note 12 8GB/128GB (2023)', 'Samsung Galaxy A04 3GB/32GB',\n",
       "       'Benco Y50 Pro', 'vivo Y16 4GB/64GB', 'OPPO A77s 8GB/128GB',\n",
       "       'Benco V90 4/64GB', 'Symphony i80', 'Symphony i85', 'Symphony i73',\n",
       "       'Symphony i71', 'Symphony Z55 4GB/128GB', 'Symphony ATOM 3',\n",
       "       'itel A48- 2/32GB', 'itel A49 Play 2/32GB', 'itel Vision 5 4/64GB',\n",
       "       'vivo Y22s 6GB/128GB', 'Redmi A1 Plus', 'itel Vision 5 3/32GB',\n",
       "       'Symphony Z47 4/64GB', 'Primo GH10i', 'Tecno Pova 4 8GB/128GB',\n",
       "       'realme C30  2GB/32GB', 'Samsung Galaxy A04s 4GB/64GB',\n",
       "       'Nokia G21 4GB/64GB', 'Symphony Z42 Pro', 'POP 6 Pro 2/32GB',\n",
       "       'OPPO A57 4GB/64GB', 'itel Vision 3 3/64GB',\n",
       "       'Infinix Note 12 G96 8GB/128GB', 'Symphony Helio 30',\n",
       "       'Symphony Z42', 'Infinix Smart 6 2GB/32GB',\n",
       "       'realme narzo 50A Prime 4/128GB', 'Redmi Note 11 4GB/64GB',\n",
       "       'Nokia G20 4GB/64GB', 'Primo GH11 2/32GB', 'Symphony Z45 4/64GB',\n",
       "       'Redmi 10A 2GB/32GB', 'Spark 8C 3GB/64GB', 'Nokia G10 4GB/64GB',\n",
       "       'Samsung Galaxy A03 4GB/64GB', 'Symphony Z22',\n",
       "       'Symphony Z33 3GB/32GB'], dtype=object)"
      ]
     },
     "execution_count": 13,
     "metadata": {},
     "output_type": "execute_result"
    }
   ],
   "source": [
    "# lets view the name column for inconsistencies\n",
    "uncleaned_df['name'].unique()"
   ]
  },
  {
   "cell_type": "code",
   "execution_count": 14,
   "id": "c72e4b6e",
   "metadata": {},
   "outputs": [],
   "source": [
    "# we can see that 'Online Shopping in Bangladesh for Mobile & Gadgets | Ayshamart' is not a mobile name, so we will remove it\n",
    "uncleaned_df = uncleaned_df[uncleaned_df['name'] != 'Online Shopping in Bangladesh for Mobile & Gadgets | Ayshamart']\n"
   ]
  },
  {
   "cell_type": "code",
   "execution_count": 17,
   "id": "5080a63b",
   "metadata": {},
   "outputs": [
    {
     "data": {
      "text/plain": [
       "array(['Nokia C2 2nd Edition- Blue', 'Nokia 1.4 3GB/64GB',\n",
       "       'Tecno Spark 20 8GB/256GB', 'Tecno Camon 20 8GB/256GB',\n",
       "       'Infinix Hot 40i 8GB/128GB', 'Infinix Hot 20 4GB/128GB',\n",
       "       'vivo Y27s 8GB/128GB', 'vivo V27e 8GB/256GB', 'vivo Y36 8GB/256GB',\n",
       "       'itel A05s 2GB/32GB', 'itel A05s 4GB/64GB',\n",
       "       'Infinix Hot 30i 4GB/128GB', 'Tecno Spark 20C 8GB/128GB',\n",
       "       'Tecno Spark 20C 4GB/128GB', 'itel A70 4GB/128GB',\n",
       "       'itel A70 4GB/64GB', 'Tecno Spark Go 2024 (4/64GB)- Mystery White',\n",
       "       'Tecno Spark Go 2024 (4/64GB)- Gravity Black',\n",
       "       'OPPO A18 4GB/128GB- Glowing Blue', 'OPPO A17K 3GB/64GB',\n",
       "       'OPPO A18 4GB/128GB- Glowing Black', 'vivo Y17s 4GB/128GB',\n",
       "       'vivo V29e 5G 8GB/256GB- Black',\n",
       "       'vivo V29e 5G 8GB/256GB- Rose Gold', 'Infinix Smart 8 (4/64GB)',\n",
       "       'Infinix Smart 8 (4/128GB)', 'OPPO A58 6GB/128GB',\n",
       "       'Benco S1 8/128GB', 'nan', 'Redmi Note 12 8GB/256GB',\n",
       "       'Xiaomi Haylou GT1 2022 TWS Wireless Earbuds',\n",
       "       'OPPO A38 4GB/128GB- Glowing Glod',\n",
       "       'OPPO A38 4GB/128GB- Glowing Black', 'Redmi A2+ 3GB/64GB',\n",
       "       'NEXG N6 Lite', 'Walton Blender WBL- 12M330', 'Redmi A2+ 4GB/64GB',\n",
       "       'itel S23 8GB/256GB', 'vivo Y17s 6GB/128GB', 'Primo F10 2/32GB',\n",
       "       'Redmi Note 12 6GB/128GB', 'OPPO A58 8GB/128GB',\n",
       "       'Symphony Atom 4 3GB/32GB', 'Symphony Atom 2- 2/32GB',\n",
       "       'Symphony SYMTAB 80 – 4/32GB', 'Infinix Note 30 Pro 8GB/256GB',\n",
       "       'Nokia C2 2nd Edition- Grey', 'Redmi 12 6GB/128GB',\n",
       "       'Redmi 12 4GB/128GB', 'NEXG N6 8/128GB', 'benco V91 4/128GB',\n",
       "       'benco V91 8/128GB', 'OPPO A78 8GB/256GB – Mist Black',\n",
       "       'OPPO A78 8GB/256GB – Aqua green', 'realme C51 4/64GB',\n",
       "       'itel S23 8/128GB', 'Orbit Y11', 'Redmi 12 8GB/256GB',\n",
       "       'itel A60s 4GB/64GB', 'itel A60s 4GB/128GB', 'vivo Y27 6/128GB',\n",
       "       'Samsung Galaxy M12 6/128GB',\n",
       "       'Samsung 1.5 Ton AR18TVHYDWKUFEN Air Conditioner – White',\n",
       "       'Redmi 12C 4GB/64GB', 'Redmi 12C 4GB/128GB',\n",
       "       'benco S1 Pro 8GB/256GB', 'Motorola Moto E13 4GB/64GB',\n",
       "       'Infinix Hot 30i 4GB/64GB', 'Infinix Note 30 8GB/128GB',\n",
       "       'itel S23 4/128GB', 'vivo Y02A 3GB/32GB', 'realme C53 6GB/128GB',\n",
       "       'Symphony G26', 'Benco S1 Pro 6/128GB',\n",
       "       'Motorola Moto E32 4GB/64GB', 'Motorola Moto E22s 4GB/64GB',\n",
       "       'Tecno Spark 10C 4GB/128GB', 'Infinix Note 30 8GB/256GB',\n",
       "       'Redmi 12C 6GB/128GB', 'Realme C55 8GB/256GB',\n",
       "       'realme 9 Pro+ 5G 8GB/128GB', 'Tecno Camon 20 Pro 8GB/256GB',\n",
       "       'realme C30s 3GB/64GB', 'vivo Y02t 4GB/64GB', 'vivo Y36 8GB/128GB',\n",
       "       'Symphony Z60 Plus 6/128GB', 'Infinix Hot 30i 8GB/128GB',\n",
       "       'NEXG N70', 'innova 10 4/128GB', 'Benco S1 6/128GB',\n",
       "       'Symphony V139', 'Benco V82 3/64GB', 'Moto e7 power 4/64GB',\n",
       "       'itel P40 4/64GB', 'itel P40 3/32GB', 'Infinix Hot 30 8GB/128GB',\n",
       "       'Orbit Y21', 'realme C33 4/128', 'Tecno Spark 10C 8GB/128GB',\n",
       "       'Symphony Z60 4/64GB', 'innova 10 4/64GB',\n",
       "       'Infinix Hot 30 4GB/128GB', 'Symphony i96', 'Realme C55 6GB/128GB',\n",
       "       'Infinix Hot 20i 6GB/128GB', 'Tecno Pop 7 2GB/64GB',\n",
       "       'vivo Y22 4GB/128GB', 'Tecno Spark 10 Pro 4GB/128GB',\n",
       "       'Tecno Spark 10 Pro 8GB/128GB', 'Infinix Smart 7 4/64GB',\n",
       "       'Samsung Galaxy Tab A 8.0', 'Infinix Smart 7 (3/64GB)',\n",
       "       'Benco V62', 'OPPO Reno8 T 8GB/128GB', 'OPPO A77 4GB/128GB',\n",
       "       'Infinix Hot 20i 4GB/128GB', 'Infinix Hot 20 8GB/128GB',\n",
       "       'Tecno Spark Go 2023 4GB/64GB', 'Infinix Note 12 8GB/256GB (2023)',\n",
       "       'Infinix Note 12 8GB/128GB (2023)', 'Samsung Galaxy A04 3GB/32GB',\n",
       "       'Benco Y50 Pro', 'vivo Y16 4GB/64GB', 'OPPO A77s 8GB/128GB',\n",
       "       'Benco V90 4/64GB', 'Symphony i80', 'Symphony i85', 'Symphony i73',\n",
       "       'Symphony i71', 'Symphony Z55 4GB/128GB', 'Symphony ATOM 3',\n",
       "       'itel A48- 2/32GB', 'itel A49 Play 2/32GB', 'itel Vision 5 4/64GB',\n",
       "       'vivo Y22s 6GB/128GB', 'Redmi A1 Plus', 'itel Vision 5 3/32GB',\n",
       "       'Symphony Z47 4/64GB', 'Primo GH10i', 'Tecno Pova 4 8GB/128GB',\n",
       "       'realme C30  2GB/32GB', 'Samsung Galaxy A04s 4GB/64GB',\n",
       "       'Nokia G21 4GB/64GB', 'Symphony Z42 Pro', 'POP 6 Pro 2/32GB',\n",
       "       'OPPO A57 4GB/64GB', 'itel Vision 3 3/64GB',\n",
       "       'Infinix Note 12 G96 8GB/128GB', 'Symphony Helio 30',\n",
       "       'Symphony Z42', 'Infinix Smart 6 2GB/32GB',\n",
       "       'realme narzo 50A Prime 4/128GB', 'Redmi Note 11 4GB/64GB',\n",
       "       'Nokia G20 4GB/64GB', 'Primo GH11 2/32GB', 'Symphony Z45 4/64GB',\n",
       "       'Redmi 10A 2GB/32GB', 'Spark 8C 3GB/64GB', 'Nokia G10 4GB/64GB',\n",
       "       'Samsung Galaxy A03 4GB/64GB', 'Symphony Z22',\n",
       "       'Symphony Z33 3GB/32GB'], dtype=object)"
      ]
     },
     "execution_count": 17,
     "metadata": {},
     "output_type": "execute_result"
    }
   ],
   "source": [
    "uncleaned_df['name'].unique()"
   ]
  },
  {
   "cell_type": "code",
   "execution_count": 19,
   "id": "90dafd4f",
   "metadata": {},
   "outputs": [],
   "source": [
    "# the price column has the currency symbol '৳' at the end, so we will remove it and convert to numeric\n",
    "uncleaned_df['price'] = (\n",
    "\tuncleaned_df['price']\n",
    "\t.str.replace('৳', '', regex=False)\n",
    "\t.str.replace(',', '', regex=False)\n",
    "\t.astype(float)\n",
    ")"
   ]
  },
  {
   "cell_type": "code",
   "execution_count": 20,
   "id": "89a76e5c",
   "metadata": {},
   "outputs": [
    {
     "data": {
      "text/html": [
       "<div>\n",
       "<style scoped>\n",
       "    .dataframe tbody tr th:only-of-type {\n",
       "        vertical-align: middle;\n",
       "    }\n",
       "\n",
       "    .dataframe tbody tr th {\n",
       "        vertical-align: top;\n",
       "    }\n",
       "\n",
       "    .dataframe thead th {\n",
       "        text-align: right;\n",
       "    }\n",
       "</style>\n",
       "<table border=\"1\" class=\"dataframe\">\n",
       "  <thead>\n",
       "    <tr style=\"text-align: right;\">\n",
       "      <th></th>\n",
       "      <th>name</th>\n",
       "      <th>brand</th>\n",
       "      <th>price</th>\n",
       "      <th>description</th>\n",
       "    </tr>\n",
       "  </thead>\n",
       "  <tbody>\n",
       "    <tr>\n",
       "      <th>0</th>\n",
       "      <td>Nokia C2 2nd Edition- Blue</td>\n",
       "      <td>Nokia</td>\n",
       "      <td>4599.0</td>\n",
       "      <td></td>\n",
       "    </tr>\n",
       "    <tr>\n",
       "      <th>2</th>\n",
       "      <td>Nokia C2 2nd Edition- Blue</td>\n",
       "      <td>Nokia</td>\n",
       "      <td>4599.0</td>\n",
       "      <td></td>\n",
       "    </tr>\n",
       "    <tr>\n",
       "      <th>3</th>\n",
       "      <td>Nokia C2 2nd Edition- Blue</td>\n",
       "      <td>Nokia</td>\n",
       "      <td>4599.0</td>\n",
       "      <td></td>\n",
       "    </tr>\n",
       "    <tr>\n",
       "      <th>4</th>\n",
       "      <td>Nokia 1.4 3GB/64GB</td>\n",
       "      <td>Nokia</td>\n",
       "      <td>7999.0</td>\n",
       "      <td></td>\n",
       "    </tr>\n",
       "    <tr>\n",
       "      <th>6</th>\n",
       "      <td>Tecno Spark 20 8GB/256GB</td>\n",
       "      <td>TECNO</td>\n",
       "      <td>15799.0</td>\n",
       "      <td>Design: Minimalist Square Shape with Metallic ...</td>\n",
       "    </tr>\n",
       "  </tbody>\n",
       "</table>\n",
       "</div>"
      ],
      "text/plain": [
       "                         name  brand    price  \\\n",
       "0  Nokia C2 2nd Edition- Blue  Nokia   4599.0   \n",
       "2  Nokia C2 2nd Edition- Blue  Nokia   4599.0   \n",
       "3  Nokia C2 2nd Edition- Blue  Nokia   4599.0   \n",
       "4          Nokia 1.4 3GB/64GB  Nokia   7999.0   \n",
       "6    Tecno Spark 20 8GB/256GB  TECNO  15799.0   \n",
       "\n",
       "                                         description  \n",
       "0                                                     \n",
       "2                                                     \n",
       "3                                                     \n",
       "4                                                     \n",
       "6  Design: Minimalist Square Shape with Metallic ...  "
      ]
     },
     "execution_count": 20,
     "metadata": {},
     "output_type": "execute_result"
    }
   ],
   "source": [
    "uncleaned_df.head()"
   ]
  },
  {
   "cell_type": "code",
   "execution_count": 23,
   "id": "477e9c5a",
   "metadata": {},
   "outputs": [],
   "source": [
    "# Now we can trim the dataset and start the entries with capital letters\n",
    "uncleaned_df['brand'] = uncleaned_df['brand'].str.strip().str.capitalize()\n",
    "uncleaned_df['name'] = uncleaned_df['name'].str.strip().str.capitalize()\n",
    "uncleaned_df['description'] = uncleaned_df['description'].str.strip().str.capitalize()\n",
    "\n",
    "\n"
   ]
  },
  {
   "cell_type": "code",
   "execution_count": 24,
   "id": "bf58f1b6",
   "metadata": {},
   "outputs": [
    {
     "data": {
      "text/html": [
       "<div>\n",
       "<style scoped>\n",
       "    .dataframe tbody tr th:only-of-type {\n",
       "        vertical-align: middle;\n",
       "    }\n",
       "\n",
       "    .dataframe tbody tr th {\n",
       "        vertical-align: top;\n",
       "    }\n",
       "\n",
       "    .dataframe thead th {\n",
       "        text-align: right;\n",
       "    }\n",
       "</style>\n",
       "<table border=\"1\" class=\"dataframe\">\n",
       "  <thead>\n",
       "    <tr style=\"text-align: right;\">\n",
       "      <th></th>\n",
       "      <th>name</th>\n",
       "      <th>brand</th>\n",
       "      <th>price</th>\n",
       "      <th>description</th>\n",
       "    </tr>\n",
       "  </thead>\n",
       "  <tbody>\n",
       "    <tr>\n",
       "      <th>0</th>\n",
       "      <td>Nokia c2 2nd edition- blue</td>\n",
       "      <td>Nokia</td>\n",
       "      <td>4599.0</td>\n",
       "      <td></td>\n",
       "    </tr>\n",
       "    <tr>\n",
       "      <th>2</th>\n",
       "      <td>Nokia c2 2nd edition- blue</td>\n",
       "      <td>Nokia</td>\n",
       "      <td>4599.0</td>\n",
       "      <td></td>\n",
       "    </tr>\n",
       "    <tr>\n",
       "      <th>3</th>\n",
       "      <td>Nokia c2 2nd edition- blue</td>\n",
       "      <td>Nokia</td>\n",
       "      <td>4599.0</td>\n",
       "      <td></td>\n",
       "    </tr>\n",
       "    <tr>\n",
       "      <th>4</th>\n",
       "      <td>Nokia 1.4 3gb/64gb</td>\n",
       "      <td>Nokia</td>\n",
       "      <td>7999.0</td>\n",
       "      <td></td>\n",
       "    </tr>\n",
       "    <tr>\n",
       "      <th>6</th>\n",
       "      <td>Tecno spark 20 8gb/256gb</td>\n",
       "      <td>Tecno</td>\n",
       "      <td>15799.0</td>\n",
       "      <td>Design: minimalist square shape with metallic ...</td>\n",
       "    </tr>\n",
       "  </tbody>\n",
       "</table>\n",
       "</div>"
      ],
      "text/plain": [
       "                         name  brand    price  \\\n",
       "0  Nokia c2 2nd edition- blue  Nokia   4599.0   \n",
       "2  Nokia c2 2nd edition- blue  Nokia   4599.0   \n",
       "3  Nokia c2 2nd edition- blue  Nokia   4599.0   \n",
       "4          Nokia 1.4 3gb/64gb  Nokia   7999.0   \n",
       "6    Tecno spark 20 8gb/256gb  Tecno  15799.0   \n",
       "\n",
       "                                         description  \n",
       "0                                                     \n",
       "2                                                     \n",
       "3                                                     \n",
       "4                                                     \n",
       "6  Design: minimalist square shape with metallic ...  "
      ]
     },
     "execution_count": 24,
     "metadata": {},
     "output_type": "execute_result"
    }
   ],
   "source": [
    "uncleaned_df.head()"
   ]
  },
  {
   "cell_type": "code",
   "execution_count": 25,
   "id": "d2d7ee5f",
   "metadata": {},
   "outputs": [
    {
     "data": {
      "text/plain": [
       "name            0\n",
       "brand           0\n",
       "price          19\n",
       "description     0\n",
       "dtype: int64"
      ]
     },
     "execution_count": 25,
     "metadata": {},
     "output_type": "execute_result"
    }
   ],
   "source": [
    "# dealing with null values\n",
    "uncleaned_df.isnull().sum()"
   ]
  },
  {
   "cell_type": "code",
   "execution_count": 26,
   "id": "5d3cdf2e",
   "metadata": {},
   "outputs": [
    {
     "name": "stderr",
     "output_type": "stream",
     "text": [
      "C:\\Users\\ratib\\AppData\\Local\\Temp\\ipykernel_15032\\2252828148.py:2: FutureWarning: A value is trying to be set on a copy of a DataFrame or Series through chained assignment using an inplace method.\n",
      "The behavior will change in pandas 3.0. This inplace method will never work because the intermediate object on which we are setting values always behaves as a copy.\n",
      "\n",
      "For example, when doing 'df[col].method(value, inplace=True)', try using 'df.method({col: value}, inplace=True)' or df[col] = df[col].method(value) instead, to perform the operation inplace on the original object.\n",
      "\n",
      "\n",
      "  uncleaned_df['price'].fillna(uncleaned_df['price'].mean(), inplace=True)\n"
     ]
    }
   ],
   "source": [
    "# replacing null price values with the mean price\n",
    "uncleaned_df['price'].fillna(uncleaned_df['price'].mean(), inplace=True)"
   ]
  },
  {
   "cell_type": "code",
   "execution_count": 33,
   "id": "ddcd1c40",
   "metadata": {},
   "outputs": [
    {
     "data": {
      "text/html": [
       "<div>\n",
       "<style scoped>\n",
       "    .dataframe tbody tr th:only-of-type {\n",
       "        vertical-align: middle;\n",
       "    }\n",
       "\n",
       "    .dataframe tbody tr th {\n",
       "        vertical-align: top;\n",
       "    }\n",
       "\n",
       "    .dataframe thead th {\n",
       "        text-align: right;\n",
       "    }\n",
       "</style>\n",
       "<table border=\"1\" class=\"dataframe\">\n",
       "  <thead>\n",
       "    <tr style=\"text-align: right;\">\n",
       "      <th></th>\n",
       "      <th>name</th>\n",
       "      <th>brand</th>\n",
       "      <th>price</th>\n",
       "      <th>description</th>\n",
       "    </tr>\n",
       "  </thead>\n",
       "  <tbody>\n",
       "    <tr>\n",
       "      <th>0</th>\n",
       "      <td>Nokia c2 2nd edition- blue</td>\n",
       "      <td>Nokia</td>\n",
       "      <td>4599.0</td>\n",
       "      <td></td>\n",
       "    </tr>\n",
       "    <tr>\n",
       "      <th>2</th>\n",
       "      <td>Nokia c2 2nd edition- blue</td>\n",
       "      <td>Nokia</td>\n",
       "      <td>4599.0</td>\n",
       "      <td></td>\n",
       "    </tr>\n",
       "    <tr>\n",
       "      <th>3</th>\n",
       "      <td>Nokia c2 2nd edition- blue</td>\n",
       "      <td>Nokia</td>\n",
       "      <td>4599.0</td>\n",
       "      <td></td>\n",
       "    </tr>\n",
       "    <tr>\n",
       "      <th>4</th>\n",
       "      <td>Nokia 1.4 3gb/64gb</td>\n",
       "      <td>Nokia</td>\n",
       "      <td>7999.0</td>\n",
       "      <td></td>\n",
       "    </tr>\n",
       "    <tr>\n",
       "      <th>6</th>\n",
       "      <td>Tecno spark 20 8gb/256gb</td>\n",
       "      <td>Tecno</td>\n",
       "      <td>15799.0</td>\n",
       "      <td>Design: minimalist square shape with metallic ...</td>\n",
       "    </tr>\n",
       "  </tbody>\n",
       "</table>\n",
       "</div>"
      ],
      "text/plain": [
       "                         name  brand    price  \\\n",
       "0  Nokia c2 2nd edition- blue  Nokia   4599.0   \n",
       "2  Nokia c2 2nd edition- blue  Nokia   4599.0   \n",
       "3  Nokia c2 2nd edition- blue  Nokia   4599.0   \n",
       "4          Nokia 1.4 3gb/64gb  Nokia   7999.0   \n",
       "6    Tecno spark 20 8gb/256gb  Tecno  15799.0   \n",
       "\n",
       "                                         description  \n",
       "0                                                     \n",
       "2                                                     \n",
       "3                                                     \n",
       "4                                                     \n",
       "6  Design: minimalist square shape with metallic ...  "
      ]
     },
     "execution_count": 33,
     "metadata": {},
     "output_type": "execute_result"
    }
   ],
   "source": [
    "uncleaned_df.head()"
   ]
  },
  {
   "cell_type": "code",
   "execution_count": null,
   "id": "09eb3acd",
   "metadata": {},
   "outputs": [
    {
     "data": {
      "text/plain": [
       "np.int64(540)"
      ]
     },
     "execution_count": 34,
     "metadata": {},
     "output_type": "execute_result"
    }
   ],
   "source": [
    "# checking for duplicates \n",
    "uncleaned_df.duplicated().sum()\n",
    "                                  # no duplicates present       "
   ]
  },
  {
   "cell_type": "markdown",
   "id": "44e2fcc7",
   "metadata": {},
   "source": [
    "# 2. Exploratory Analysis"
   ]
  },
  {
   "cell_type": "code",
   "execution_count": 39,
   "id": "13e6e1f9",
   "metadata": {},
   "outputs": [
    {
     "data": {
      "application/vnd.plotly.v1+json": {
       "config": {
        "plotlyServerURL": "https://plot.ly"
       },
       "data": [
        {
         "hovertemplate": "brand=%{x}<br>price=%{y}<extra></extra>",
         "legendgroup": "",
         "marker": {
          "color": "#636efa",
          "pattern": {
           "shape": ""
          }
         },
         "name": "",
         "orientation": "v",
         "showlegend": false,
         "textposition": "auto",
         "type": "bar",
         "x": [
          "Vivo",
          "Infinix",
          "Oppo",
          "Tecno",
          "Symphony",
          "Xiaomi",
          "Nokia",
          "Itel",
          "Relame",
          "Lava"
         ],
         "xaxis": "x",
         "y": {
          "bdata": "AAAAAAInNUEAAAAAmgoyQQAAAAAY+CxBAAAAAPruLEEAAAAAdokmQQAAAABixiVBAAAAAEghIUEAAAAA5jUgQQAAAABsshxBAAAAAIDSEEE=",
          "dtype": "f8"
         },
         "yaxis": "y"
        }
       ],
       "layout": {
        "barmode": "relative",
        "legend": {
         "tracegroupgap": 0
        },
        "template": {
         "data": {
          "bar": [
           {
            "error_x": {
             "color": "#2a3f5f"
            },
            "error_y": {
             "color": "#2a3f5f"
            },
            "marker": {
             "line": {
              "color": "white",
              "width": 0.5
             },
             "pattern": {
              "fillmode": "overlay",
              "size": 10,
              "solidity": 0.2
             }
            },
            "type": "bar"
           }
          ],
          "barpolar": [
           {
            "marker": {
             "line": {
              "color": "white",
              "width": 0.5
             },
             "pattern": {
              "fillmode": "overlay",
              "size": 10,
              "solidity": 0.2
             }
            },
            "type": "barpolar"
           }
          ],
          "carpet": [
           {
            "aaxis": {
             "endlinecolor": "#2a3f5f",
             "gridcolor": "#C8D4E3",
             "linecolor": "#C8D4E3",
             "minorgridcolor": "#C8D4E3",
             "startlinecolor": "#2a3f5f"
            },
            "baxis": {
             "endlinecolor": "#2a3f5f",
             "gridcolor": "#C8D4E3",
             "linecolor": "#C8D4E3",
             "minorgridcolor": "#C8D4E3",
             "startlinecolor": "#2a3f5f"
            },
            "type": "carpet"
           }
          ],
          "choropleth": [
           {
            "colorbar": {
             "outlinewidth": 0,
             "ticks": ""
            },
            "type": "choropleth"
           }
          ],
          "contour": [
           {
            "colorbar": {
             "outlinewidth": 0,
             "ticks": ""
            },
            "colorscale": [
             [
              0,
              "#0d0887"
             ],
             [
              0.1111111111111111,
              "#46039f"
             ],
             [
              0.2222222222222222,
              "#7201a8"
             ],
             [
              0.3333333333333333,
              "#9c179e"
             ],
             [
              0.4444444444444444,
              "#bd3786"
             ],
             [
              0.5555555555555556,
              "#d8576b"
             ],
             [
              0.6666666666666666,
              "#ed7953"
             ],
             [
              0.7777777777777778,
              "#fb9f3a"
             ],
             [
              0.8888888888888888,
              "#fdca26"
             ],
             [
              1,
              "#f0f921"
             ]
            ],
            "type": "contour"
           }
          ],
          "contourcarpet": [
           {
            "colorbar": {
             "outlinewidth": 0,
             "ticks": ""
            },
            "type": "contourcarpet"
           }
          ],
          "heatmap": [
           {
            "colorbar": {
             "outlinewidth": 0,
             "ticks": ""
            },
            "colorscale": [
             [
              0,
              "#0d0887"
             ],
             [
              0.1111111111111111,
              "#46039f"
             ],
             [
              0.2222222222222222,
              "#7201a8"
             ],
             [
              0.3333333333333333,
              "#9c179e"
             ],
             [
              0.4444444444444444,
              "#bd3786"
             ],
             [
              0.5555555555555556,
              "#d8576b"
             ],
             [
              0.6666666666666666,
              "#ed7953"
             ],
             [
              0.7777777777777778,
              "#fb9f3a"
             ],
             [
              0.8888888888888888,
              "#fdca26"
             ],
             [
              1,
              "#f0f921"
             ]
            ],
            "type": "heatmap"
           }
          ],
          "histogram": [
           {
            "marker": {
             "pattern": {
              "fillmode": "overlay",
              "size": 10,
              "solidity": 0.2
             }
            },
            "type": "histogram"
           }
          ],
          "histogram2d": [
           {
            "colorbar": {
             "outlinewidth": 0,
             "ticks": ""
            },
            "colorscale": [
             [
              0,
              "#0d0887"
             ],
             [
              0.1111111111111111,
              "#46039f"
             ],
             [
              0.2222222222222222,
              "#7201a8"
             ],
             [
              0.3333333333333333,
              "#9c179e"
             ],
             [
              0.4444444444444444,
              "#bd3786"
             ],
             [
              0.5555555555555556,
              "#d8576b"
             ],
             [
              0.6666666666666666,
              "#ed7953"
             ],
             [
              0.7777777777777778,
              "#fb9f3a"
             ],
             [
              0.8888888888888888,
              "#fdca26"
             ],
             [
              1,
              "#f0f921"
             ]
            ],
            "type": "histogram2d"
           }
          ],
          "histogram2dcontour": [
           {
            "colorbar": {
             "outlinewidth": 0,
             "ticks": ""
            },
            "colorscale": [
             [
              0,
              "#0d0887"
             ],
             [
              0.1111111111111111,
              "#46039f"
             ],
             [
              0.2222222222222222,
              "#7201a8"
             ],
             [
              0.3333333333333333,
              "#9c179e"
             ],
             [
              0.4444444444444444,
              "#bd3786"
             ],
             [
              0.5555555555555556,
              "#d8576b"
             ],
             [
              0.6666666666666666,
              "#ed7953"
             ],
             [
              0.7777777777777778,
              "#fb9f3a"
             ],
             [
              0.8888888888888888,
              "#fdca26"
             ],
             [
              1,
              "#f0f921"
             ]
            ],
            "type": "histogram2dcontour"
           }
          ],
          "mesh3d": [
           {
            "colorbar": {
             "outlinewidth": 0,
             "ticks": ""
            },
            "type": "mesh3d"
           }
          ],
          "parcoords": [
           {
            "line": {
             "colorbar": {
              "outlinewidth": 0,
              "ticks": ""
             }
            },
            "type": "parcoords"
           }
          ],
          "pie": [
           {
            "automargin": true,
            "type": "pie"
           }
          ],
          "scatter": [
           {
            "fillpattern": {
             "fillmode": "overlay",
             "size": 10,
             "solidity": 0.2
            },
            "type": "scatter"
           }
          ],
          "scatter3d": [
           {
            "line": {
             "colorbar": {
              "outlinewidth": 0,
              "ticks": ""
             }
            },
            "marker": {
             "colorbar": {
              "outlinewidth": 0,
              "ticks": ""
             }
            },
            "type": "scatter3d"
           }
          ],
          "scattercarpet": [
           {
            "marker": {
             "colorbar": {
              "outlinewidth": 0,
              "ticks": ""
             }
            },
            "type": "scattercarpet"
           }
          ],
          "scattergeo": [
           {
            "marker": {
             "colorbar": {
              "outlinewidth": 0,
              "ticks": ""
             }
            },
            "type": "scattergeo"
           }
          ],
          "scattergl": [
           {
            "marker": {
             "colorbar": {
              "outlinewidth": 0,
              "ticks": ""
             }
            },
            "type": "scattergl"
           }
          ],
          "scattermap": [
           {
            "marker": {
             "colorbar": {
              "outlinewidth": 0,
              "ticks": ""
             }
            },
            "type": "scattermap"
           }
          ],
          "scattermapbox": [
           {
            "marker": {
             "colorbar": {
              "outlinewidth": 0,
              "ticks": ""
             }
            },
            "type": "scattermapbox"
           }
          ],
          "scatterpolar": [
           {
            "marker": {
             "colorbar": {
              "outlinewidth": 0,
              "ticks": ""
             }
            },
            "type": "scatterpolar"
           }
          ],
          "scatterpolargl": [
           {
            "marker": {
             "colorbar": {
              "outlinewidth": 0,
              "ticks": ""
             }
            },
            "type": "scatterpolargl"
           }
          ],
          "scatterternary": [
           {
            "marker": {
             "colorbar": {
              "outlinewidth": 0,
              "ticks": ""
             }
            },
            "type": "scatterternary"
           }
          ],
          "surface": [
           {
            "colorbar": {
             "outlinewidth": 0,
             "ticks": ""
            },
            "colorscale": [
             [
              0,
              "#0d0887"
             ],
             [
              0.1111111111111111,
              "#46039f"
             ],
             [
              0.2222222222222222,
              "#7201a8"
             ],
             [
              0.3333333333333333,
              "#9c179e"
             ],
             [
              0.4444444444444444,
              "#bd3786"
             ],
             [
              0.5555555555555556,
              "#d8576b"
             ],
             [
              0.6666666666666666,
              "#ed7953"
             ],
             [
              0.7777777777777778,
              "#fb9f3a"
             ],
             [
              0.8888888888888888,
              "#fdca26"
             ],
             [
              1,
              "#f0f921"
             ]
            ],
            "type": "surface"
           }
          ],
          "table": [
           {
            "cells": {
             "fill": {
              "color": "#EBF0F8"
             },
             "line": {
              "color": "white"
             }
            },
            "header": {
             "fill": {
              "color": "#C8D4E3"
             },
             "line": {
              "color": "white"
             }
            },
            "type": "table"
           }
          ]
         },
         "layout": {
          "annotationdefaults": {
           "arrowcolor": "#2a3f5f",
           "arrowhead": 0,
           "arrowwidth": 1
          },
          "autotypenumbers": "strict",
          "coloraxis": {
           "colorbar": {
            "outlinewidth": 0,
            "ticks": ""
           }
          },
          "colorscale": {
           "diverging": [
            [
             0,
             "#8e0152"
            ],
            [
             0.1,
             "#c51b7d"
            ],
            [
             0.2,
             "#de77ae"
            ],
            [
             0.3,
             "#f1b6da"
            ],
            [
             0.4,
             "#fde0ef"
            ],
            [
             0.5,
             "#f7f7f7"
            ],
            [
             0.6,
             "#e6f5d0"
            ],
            [
             0.7,
             "#b8e186"
            ],
            [
             0.8,
             "#7fbc41"
            ],
            [
             0.9,
             "#4d9221"
            ],
            [
             1,
             "#276419"
            ]
           ],
           "sequential": [
            [
             0,
             "#0d0887"
            ],
            [
             0.1111111111111111,
             "#46039f"
            ],
            [
             0.2222222222222222,
             "#7201a8"
            ],
            [
             0.3333333333333333,
             "#9c179e"
            ],
            [
             0.4444444444444444,
             "#bd3786"
            ],
            [
             0.5555555555555556,
             "#d8576b"
            ],
            [
             0.6666666666666666,
             "#ed7953"
            ],
            [
             0.7777777777777778,
             "#fb9f3a"
            ],
            [
             0.8888888888888888,
             "#fdca26"
            ],
            [
             1,
             "#f0f921"
            ]
           ],
           "sequentialminus": [
            [
             0,
             "#0d0887"
            ],
            [
             0.1111111111111111,
             "#46039f"
            ],
            [
             0.2222222222222222,
             "#7201a8"
            ],
            [
             0.3333333333333333,
             "#9c179e"
            ],
            [
             0.4444444444444444,
             "#bd3786"
            ],
            [
             0.5555555555555556,
             "#d8576b"
            ],
            [
             0.6666666666666666,
             "#ed7953"
            ],
            [
             0.7777777777777778,
             "#fb9f3a"
            ],
            [
             0.8888888888888888,
             "#fdca26"
            ],
            [
             1,
             "#f0f921"
            ]
           ]
          },
          "colorway": [
           "#636efa",
           "#EF553B",
           "#00cc96",
           "#ab63fa",
           "#FFA15A",
           "#19d3f3",
           "#FF6692",
           "#B6E880",
           "#FF97FF",
           "#FECB52"
          ],
          "font": {
           "color": "#2a3f5f"
          },
          "geo": {
           "bgcolor": "white",
           "lakecolor": "white",
           "landcolor": "white",
           "showlakes": true,
           "showland": true,
           "subunitcolor": "#C8D4E3"
          },
          "hoverlabel": {
           "align": "left"
          },
          "hovermode": "closest",
          "mapbox": {
           "style": "light"
          },
          "paper_bgcolor": "white",
          "plot_bgcolor": "white",
          "polar": {
           "angularaxis": {
            "gridcolor": "#EBF0F8",
            "linecolor": "#EBF0F8",
            "ticks": ""
           },
           "bgcolor": "white",
           "radialaxis": {
            "gridcolor": "#EBF0F8",
            "linecolor": "#EBF0F8",
            "ticks": ""
           }
          },
          "scene": {
           "xaxis": {
            "backgroundcolor": "white",
            "gridcolor": "#DFE8F3",
            "gridwidth": 2,
            "linecolor": "#EBF0F8",
            "showbackground": true,
            "ticks": "",
            "zerolinecolor": "#EBF0F8"
           },
           "yaxis": {
            "backgroundcolor": "white",
            "gridcolor": "#DFE8F3",
            "gridwidth": 2,
            "linecolor": "#EBF0F8",
            "showbackground": true,
            "ticks": "",
            "zerolinecolor": "#EBF0F8"
           },
           "zaxis": {
            "backgroundcolor": "white",
            "gridcolor": "#DFE8F3",
            "gridwidth": 2,
            "linecolor": "#EBF0F8",
            "showbackground": true,
            "ticks": "",
            "zerolinecolor": "#EBF0F8"
           }
          },
          "shapedefaults": {
           "line": {
            "color": "#2a3f5f"
           }
          },
          "ternary": {
           "aaxis": {
            "gridcolor": "#DFE8F3",
            "linecolor": "#A2B1C6",
            "ticks": ""
           },
           "baxis": {
            "gridcolor": "#DFE8F3",
            "linecolor": "#A2B1C6",
            "ticks": ""
           },
           "bgcolor": "white",
           "caxis": {
            "gridcolor": "#DFE8F3",
            "linecolor": "#A2B1C6",
            "ticks": ""
           }
          },
          "title": {
           "x": 0.05
          },
          "xaxis": {
           "automargin": true,
           "gridcolor": "#EBF0F8",
           "linecolor": "#EBF0F8",
           "ticks": "",
           "title": {
            "standoff": 15
           },
           "zerolinecolor": "#EBF0F8",
           "zerolinewidth": 2
          },
          "yaxis": {
           "automargin": true,
           "gridcolor": "#EBF0F8",
           "linecolor": "#EBF0F8",
           "ticks": "",
           "title": {
            "standoff": 15
           },
           "zerolinecolor": "#EBF0F8",
           "zerolinewidth": 2
          }
         }
        },
        "title": {
         "text": "Top 10 Brands by Total Sales"
        },
        "xaxis": {
         "anchor": "y",
         "domain": [
          0,
          1
         ],
         "title": {
          "text": "Brand"
         }
        },
        "yaxis": {
         "anchor": "x",
         "domain": [
          0,
          1
         ],
         "title": {
          "text": "Average Price (৳)"
         }
        }
       }
      }
     },
     "metadata": {},
     "output_type": "display_data"
    }
   ],
   "source": [
    "# Exclude brands that are 'Nan' (string) or actual NaN, then show top 10 brands by average price\n",
    "filtered_df = uncleaned_df[uncleaned_df['brand'].notna() & (uncleaned_df['brand'].str.lower() != 'nan')]\n",
    "brands = (\n",
    "    filtered_df.groupby('brand')['price']\n",
    "    .sum()\n",
    "    .sort_values(ascending=False)\n",
    "    .head(10)\n",
    "    .reset_index()\n",
    ")\n",
    "fig = px.bar(brands, x='brand', y='price', title='Top 10 Brands by Total Sales')\n",
    "fig.update_layout(\n",
    "    xaxis_title='Brand',\n",
    "    yaxis_title='Average Price (৳)',\n",
    "    template='plotly_white'\n",
    ")\n",
    "fig.show()\n"
   ]
  },
  {
   "cell_type": "code",
   "execution_count": 43,
   "id": "03bf5707",
   "metadata": {},
   "outputs": [
    {
     "data": {
      "application/vnd.plotly.v1+json": {
       "config": {
        "plotlyServerURL": "https://plot.ly"
       },
       "data": [
        {
         "hovertemplate": "name=%{x}<br>price=%{y}<extra></extra>",
         "legendgroup": "",
         "marker": {
          "color": "#636efa",
          "pattern": {
           "shape": ""
          }
         },
         "name": "",
         "orientation": "v",
         "showlegend": false,
         "textposition": "auto",
         "type": "bar",
         "x": [
          "Samsung 1.5 ton ar18tvhydwkufen air conditioner – white",
          "Vivo v29e 5g 8gb/256gb- rose gold",
          "Vivo v29e 5g 8gb/256gb- black",
          "Realme 9 pro+ 5g 8gb/128gb",
          "Vivo v27e 8gb/256gb",
          "Oppo reno8 t 8gb/128gb",
          "Vivo y36 8gb/256gb",
          "Infinix note 30 pro 8gb/256gb",
          "Oppo a78 8gb/256gb – aqua green",
          "Oppo a78 8gb/256gb – mist black"
         ],
         "xaxis": "x",
         "y": {
          "bdata": "AAAAAMBp90AAAAAA4BbhQAAAAADgFuFAAAAAAOAc4EAAAAAAwLzfQAAAAACAT9xAAAAAAMDm2EAAAAAAwM3YQAAAAACAy9hAAAAAAIDL2EA=",
          "dtype": "f8"
         },
         "yaxis": "y"
        }
       ],
       "layout": {
        "barmode": "relative",
        "legend": {
         "tracegroupgap": 0
        },
        "template": {
         "data": {
          "bar": [
           {
            "error_x": {
             "color": "#2a3f5f"
            },
            "error_y": {
             "color": "#2a3f5f"
            },
            "marker": {
             "line": {
              "color": "white",
              "width": 0.5
             },
             "pattern": {
              "fillmode": "overlay",
              "size": 10,
              "solidity": 0.2
             }
            },
            "type": "bar"
           }
          ],
          "barpolar": [
           {
            "marker": {
             "line": {
              "color": "white",
              "width": 0.5
             },
             "pattern": {
              "fillmode": "overlay",
              "size": 10,
              "solidity": 0.2
             }
            },
            "type": "barpolar"
           }
          ],
          "carpet": [
           {
            "aaxis": {
             "endlinecolor": "#2a3f5f",
             "gridcolor": "#C8D4E3",
             "linecolor": "#C8D4E3",
             "minorgridcolor": "#C8D4E3",
             "startlinecolor": "#2a3f5f"
            },
            "baxis": {
             "endlinecolor": "#2a3f5f",
             "gridcolor": "#C8D4E3",
             "linecolor": "#C8D4E3",
             "minorgridcolor": "#C8D4E3",
             "startlinecolor": "#2a3f5f"
            },
            "type": "carpet"
           }
          ],
          "choropleth": [
           {
            "colorbar": {
             "outlinewidth": 0,
             "ticks": ""
            },
            "type": "choropleth"
           }
          ],
          "contour": [
           {
            "colorbar": {
             "outlinewidth": 0,
             "ticks": ""
            },
            "colorscale": [
             [
              0,
              "#0d0887"
             ],
             [
              0.1111111111111111,
              "#46039f"
             ],
             [
              0.2222222222222222,
              "#7201a8"
             ],
             [
              0.3333333333333333,
              "#9c179e"
             ],
             [
              0.4444444444444444,
              "#bd3786"
             ],
             [
              0.5555555555555556,
              "#d8576b"
             ],
             [
              0.6666666666666666,
              "#ed7953"
             ],
             [
              0.7777777777777778,
              "#fb9f3a"
             ],
             [
              0.8888888888888888,
              "#fdca26"
             ],
             [
              1,
              "#f0f921"
             ]
            ],
            "type": "contour"
           }
          ],
          "contourcarpet": [
           {
            "colorbar": {
             "outlinewidth": 0,
             "ticks": ""
            },
            "type": "contourcarpet"
           }
          ],
          "heatmap": [
           {
            "colorbar": {
             "outlinewidth": 0,
             "ticks": ""
            },
            "colorscale": [
             [
              0,
              "#0d0887"
             ],
             [
              0.1111111111111111,
              "#46039f"
             ],
             [
              0.2222222222222222,
              "#7201a8"
             ],
             [
              0.3333333333333333,
              "#9c179e"
             ],
             [
              0.4444444444444444,
              "#bd3786"
             ],
             [
              0.5555555555555556,
              "#d8576b"
             ],
             [
              0.6666666666666666,
              "#ed7953"
             ],
             [
              0.7777777777777778,
              "#fb9f3a"
             ],
             [
              0.8888888888888888,
              "#fdca26"
             ],
             [
              1,
              "#f0f921"
             ]
            ],
            "type": "heatmap"
           }
          ],
          "histogram": [
           {
            "marker": {
             "pattern": {
              "fillmode": "overlay",
              "size": 10,
              "solidity": 0.2
             }
            },
            "type": "histogram"
           }
          ],
          "histogram2d": [
           {
            "colorbar": {
             "outlinewidth": 0,
             "ticks": ""
            },
            "colorscale": [
             [
              0,
              "#0d0887"
             ],
             [
              0.1111111111111111,
              "#46039f"
             ],
             [
              0.2222222222222222,
              "#7201a8"
             ],
             [
              0.3333333333333333,
              "#9c179e"
             ],
             [
              0.4444444444444444,
              "#bd3786"
             ],
             [
              0.5555555555555556,
              "#d8576b"
             ],
             [
              0.6666666666666666,
              "#ed7953"
             ],
             [
              0.7777777777777778,
              "#fb9f3a"
             ],
             [
              0.8888888888888888,
              "#fdca26"
             ],
             [
              1,
              "#f0f921"
             ]
            ],
            "type": "histogram2d"
           }
          ],
          "histogram2dcontour": [
           {
            "colorbar": {
             "outlinewidth": 0,
             "ticks": ""
            },
            "colorscale": [
             [
              0,
              "#0d0887"
             ],
             [
              0.1111111111111111,
              "#46039f"
             ],
             [
              0.2222222222222222,
              "#7201a8"
             ],
             [
              0.3333333333333333,
              "#9c179e"
             ],
             [
              0.4444444444444444,
              "#bd3786"
             ],
             [
              0.5555555555555556,
              "#d8576b"
             ],
             [
              0.6666666666666666,
              "#ed7953"
             ],
             [
              0.7777777777777778,
              "#fb9f3a"
             ],
             [
              0.8888888888888888,
              "#fdca26"
             ],
             [
              1,
              "#f0f921"
             ]
            ],
            "type": "histogram2dcontour"
           }
          ],
          "mesh3d": [
           {
            "colorbar": {
             "outlinewidth": 0,
             "ticks": ""
            },
            "type": "mesh3d"
           }
          ],
          "parcoords": [
           {
            "line": {
             "colorbar": {
              "outlinewidth": 0,
              "ticks": ""
             }
            },
            "type": "parcoords"
           }
          ],
          "pie": [
           {
            "automargin": true,
            "type": "pie"
           }
          ],
          "scatter": [
           {
            "fillpattern": {
             "fillmode": "overlay",
             "size": 10,
             "solidity": 0.2
            },
            "type": "scatter"
           }
          ],
          "scatter3d": [
           {
            "line": {
             "colorbar": {
              "outlinewidth": 0,
              "ticks": ""
             }
            },
            "marker": {
             "colorbar": {
              "outlinewidth": 0,
              "ticks": ""
             }
            },
            "type": "scatter3d"
           }
          ],
          "scattercarpet": [
           {
            "marker": {
             "colorbar": {
              "outlinewidth": 0,
              "ticks": ""
             }
            },
            "type": "scattercarpet"
           }
          ],
          "scattergeo": [
           {
            "marker": {
             "colorbar": {
              "outlinewidth": 0,
              "ticks": ""
             }
            },
            "type": "scattergeo"
           }
          ],
          "scattergl": [
           {
            "marker": {
             "colorbar": {
              "outlinewidth": 0,
              "ticks": ""
             }
            },
            "type": "scattergl"
           }
          ],
          "scattermap": [
           {
            "marker": {
             "colorbar": {
              "outlinewidth": 0,
              "ticks": ""
             }
            },
            "type": "scattermap"
           }
          ],
          "scattermapbox": [
           {
            "marker": {
             "colorbar": {
              "outlinewidth": 0,
              "ticks": ""
             }
            },
            "type": "scattermapbox"
           }
          ],
          "scatterpolar": [
           {
            "marker": {
             "colorbar": {
              "outlinewidth": 0,
              "ticks": ""
             }
            },
            "type": "scatterpolar"
           }
          ],
          "scatterpolargl": [
           {
            "marker": {
             "colorbar": {
              "outlinewidth": 0,
              "ticks": ""
             }
            },
            "type": "scatterpolargl"
           }
          ],
          "scatterternary": [
           {
            "marker": {
             "colorbar": {
              "outlinewidth": 0,
              "ticks": ""
             }
            },
            "type": "scatterternary"
           }
          ],
          "surface": [
           {
            "colorbar": {
             "outlinewidth": 0,
             "ticks": ""
            },
            "colorscale": [
             [
              0,
              "#0d0887"
             ],
             [
              0.1111111111111111,
              "#46039f"
             ],
             [
              0.2222222222222222,
              "#7201a8"
             ],
             [
              0.3333333333333333,
              "#9c179e"
             ],
             [
              0.4444444444444444,
              "#bd3786"
             ],
             [
              0.5555555555555556,
              "#d8576b"
             ],
             [
              0.6666666666666666,
              "#ed7953"
             ],
             [
              0.7777777777777778,
              "#fb9f3a"
             ],
             [
              0.8888888888888888,
              "#fdca26"
             ],
             [
              1,
              "#f0f921"
             ]
            ],
            "type": "surface"
           }
          ],
          "table": [
           {
            "cells": {
             "fill": {
              "color": "#EBF0F8"
             },
             "line": {
              "color": "white"
             }
            },
            "header": {
             "fill": {
              "color": "#C8D4E3"
             },
             "line": {
              "color": "white"
             }
            },
            "type": "table"
           }
          ]
         },
         "layout": {
          "annotationdefaults": {
           "arrowcolor": "#2a3f5f",
           "arrowhead": 0,
           "arrowwidth": 1
          },
          "autotypenumbers": "strict",
          "coloraxis": {
           "colorbar": {
            "outlinewidth": 0,
            "ticks": ""
           }
          },
          "colorscale": {
           "diverging": [
            [
             0,
             "#8e0152"
            ],
            [
             0.1,
             "#c51b7d"
            ],
            [
             0.2,
             "#de77ae"
            ],
            [
             0.3,
             "#f1b6da"
            ],
            [
             0.4,
             "#fde0ef"
            ],
            [
             0.5,
             "#f7f7f7"
            ],
            [
             0.6,
             "#e6f5d0"
            ],
            [
             0.7,
             "#b8e186"
            ],
            [
             0.8,
             "#7fbc41"
            ],
            [
             0.9,
             "#4d9221"
            ],
            [
             1,
             "#276419"
            ]
           ],
           "sequential": [
            [
             0,
             "#0d0887"
            ],
            [
             0.1111111111111111,
             "#46039f"
            ],
            [
             0.2222222222222222,
             "#7201a8"
            ],
            [
             0.3333333333333333,
             "#9c179e"
            ],
            [
             0.4444444444444444,
             "#bd3786"
            ],
            [
             0.5555555555555556,
             "#d8576b"
            ],
            [
             0.6666666666666666,
             "#ed7953"
            ],
            [
             0.7777777777777778,
             "#fb9f3a"
            ],
            [
             0.8888888888888888,
             "#fdca26"
            ],
            [
             1,
             "#f0f921"
            ]
           ],
           "sequentialminus": [
            [
             0,
             "#0d0887"
            ],
            [
             0.1111111111111111,
             "#46039f"
            ],
            [
             0.2222222222222222,
             "#7201a8"
            ],
            [
             0.3333333333333333,
             "#9c179e"
            ],
            [
             0.4444444444444444,
             "#bd3786"
            ],
            [
             0.5555555555555556,
             "#d8576b"
            ],
            [
             0.6666666666666666,
             "#ed7953"
            ],
            [
             0.7777777777777778,
             "#fb9f3a"
            ],
            [
             0.8888888888888888,
             "#fdca26"
            ],
            [
             1,
             "#f0f921"
            ]
           ]
          },
          "colorway": [
           "#636efa",
           "#EF553B",
           "#00cc96",
           "#ab63fa",
           "#FFA15A",
           "#19d3f3",
           "#FF6692",
           "#B6E880",
           "#FF97FF",
           "#FECB52"
          ],
          "font": {
           "color": "#2a3f5f"
          },
          "geo": {
           "bgcolor": "white",
           "lakecolor": "white",
           "landcolor": "white",
           "showlakes": true,
           "showland": true,
           "subunitcolor": "#C8D4E3"
          },
          "hoverlabel": {
           "align": "left"
          },
          "hovermode": "closest",
          "mapbox": {
           "style": "light"
          },
          "paper_bgcolor": "white",
          "plot_bgcolor": "white",
          "polar": {
           "angularaxis": {
            "gridcolor": "#EBF0F8",
            "linecolor": "#EBF0F8",
            "ticks": ""
           },
           "bgcolor": "white",
           "radialaxis": {
            "gridcolor": "#EBF0F8",
            "linecolor": "#EBF0F8",
            "ticks": ""
           }
          },
          "scene": {
           "xaxis": {
            "backgroundcolor": "white",
            "gridcolor": "#DFE8F3",
            "gridwidth": 2,
            "linecolor": "#EBF0F8",
            "showbackground": true,
            "ticks": "",
            "zerolinecolor": "#EBF0F8"
           },
           "yaxis": {
            "backgroundcolor": "white",
            "gridcolor": "#DFE8F3",
            "gridwidth": 2,
            "linecolor": "#EBF0F8",
            "showbackground": true,
            "ticks": "",
            "zerolinecolor": "#EBF0F8"
           },
           "zaxis": {
            "backgroundcolor": "white",
            "gridcolor": "#DFE8F3",
            "gridwidth": 2,
            "linecolor": "#EBF0F8",
            "showbackground": true,
            "ticks": "",
            "zerolinecolor": "#EBF0F8"
           }
          },
          "shapedefaults": {
           "line": {
            "color": "#2a3f5f"
           }
          },
          "ternary": {
           "aaxis": {
            "gridcolor": "#DFE8F3",
            "linecolor": "#A2B1C6",
            "ticks": ""
           },
           "baxis": {
            "gridcolor": "#DFE8F3",
            "linecolor": "#A2B1C6",
            "ticks": ""
           },
           "bgcolor": "white",
           "caxis": {
            "gridcolor": "#DFE8F3",
            "linecolor": "#A2B1C6",
            "ticks": ""
           }
          },
          "title": {
           "x": 0.05
          },
          "xaxis": {
           "automargin": true,
           "gridcolor": "#EBF0F8",
           "linecolor": "#EBF0F8",
           "ticks": "",
           "title": {
            "standoff": 15
           },
           "zerolinecolor": "#EBF0F8",
           "zerolinewidth": 2
          },
          "yaxis": {
           "automargin": true,
           "gridcolor": "#EBF0F8",
           "linecolor": "#EBF0F8",
           "ticks": "",
           "title": {
            "standoff": 15
           },
           "zerolinecolor": "#EBF0F8",
           "zerolinewidth": 2
          }
         }
        },
        "title": {
         "text": "Top 10 Most Bought Phones by Average price"
        },
        "xaxis": {
         "anchor": "y",
         "domain": [
          0,
          1
         ],
         "title": {
          "text": "Mobile Phone"
         }
        },
        "yaxis": {
         "anchor": "x",
         "domain": [
          0,
          1
         ],
         "title": {
          "text": "Average Price"
         }
        }
       }
      }
     },
     "metadata": {},
     "output_type": "display_data"
    }
   ],
   "source": [
    "# Most bought mobile phones \n",
    "filter_df = uncleaned_df[uncleaned_df['name'].notna() & (uncleaned_df['name'].str.lower() != 'nan')]\n",
    "top_phones = (\n",
    "    filter_df.groupby('name')['price']\n",
    "    .mean()\n",
    "    .sort_values(ascending=False)\n",
    "    .head(10)\n",
    "    .reset_index()\n",
    "\n",
    ")\n",
    "fig = px.bar(top_phones, x='name', y='price', title='Top 10 Most Bought Phones by Average price')\n",
    "fig.update_layout(\n",
    "    xaxis_title= 'Mobile Phone',\n",
    "    yaxis_title = 'Average Price',\n",
    "    template='plotly_white'\n",
    ")\n",
    "fig.show()"
   ]
  }
 ],
 "metadata": {
  "kernelspec": {
   "display_name": "Python 3",
   "language": "python",
   "name": "python3"
  },
  "language_info": {
   "codemirror_mode": {
    "name": "ipython",
    "version": 3
   },
   "file_extension": ".py",
   "mimetype": "text/x-python",
   "name": "python",
   "nbconvert_exporter": "python",
   "pygments_lexer": "ipython3",
   "version": "3.13.3"
  }
 },
 "nbformat": 4,
 "nbformat_minor": 5
}
